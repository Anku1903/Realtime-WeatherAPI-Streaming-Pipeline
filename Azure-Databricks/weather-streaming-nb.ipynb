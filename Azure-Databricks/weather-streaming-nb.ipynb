{
 "cells": [
  {
   "cell_type": "markdown",
   "metadata": {},
   "source": [
    "## Setup"
   ]
  },
  {
   "cell_type": "code",
   "execution_count": null,
   "metadata": {},
   "outputs": [],
   "source": [
    "from azure.eventhub import EventHubProducerClient, EventData\n",
    "import json\n",
    "\n",
    "# Get secret value from Key Vault\n",
    "eventhub_connection_string = dbutils.secrets.get(scope=\"weatherscope\", key=\"databricks-event-conncect\")\n",
    "\n",
    "EVENT_HUB_NAME = \"weatherapievents\"\n"
   ]
  },
  {
   "cell_type": "markdown",
   "metadata": {
    "application/vnd.databricks.v1+cell": {
     "cellMetadata": {},
     "inputWidgets": {},
     "nuid": "c63075bf-9c3d-4c80-b109-c762f71b1094",
     "showTitle": false,
     "tableResultSettingsMap": {},
     "title": ""
    }
   },
   "source": [
    "\n",
    "#### Send a test event to the Event Hub"
   ]
  },
  {
   "cell_type": "code",
   "execution_count": 0,
   "metadata": {
    "application/vnd.databricks.v1+cell": {
     "cellMetadata": {
      "byteLimit": 2048000,
      "rowLimit": 10000
     },
     "inputWidgets": {},
     "nuid": "21693669-5de1-46a9-8abb-af29d0349027",
     "showTitle": false,
     "tableResultSettingsMap": {},
     "title": ""
    }
   },
   "outputs": [],
   "source": [
    "\n",
    "# Initialize the eventhub producer\n",
    "producer = EventHubProducerClient.from_connection_string(eventhub_connection_string, eventhub_name=EVENT_HUB_NAME)\n",
    "\n",
    "# Function to send events to Event Hub\n",
    "def send_event(event):\n",
    "    event_data_batch = producer.create_batch()\n",
    "    event_data_batch.add(EventData(json.dumps(event)))\n",
    "    producer.send_batch(event_data_batch)\n",
    "\n",
    "# Sample JSON envent\n",
    "event = {\n",
    "    \"event_id\": 2222,\n",
    "    \"event_name\": \"Key Vault Test\"\n",
    "}\n",
    "\n",
    "# Send the event\n",
    "send_event(event)\n",
    "\n",
    "# Close the producer\n",
    "producer.close()"
   ]
  },
  {
   "cell_type": "markdown",
   "metadata": {
    "application/vnd.databricks.v1+cell": {
     "cellMetadata": {},
     "inputWidgets": {},
     "nuid": "10657272-b30e-48be-a986-a8cf668de69d",
     "showTitle": false,
     "tableResultSettingsMap": {},
     "title": ""
    }
   },
   "source": [
    "#### API Testing for realtime weather data"
   ]
  },
  {
   "cell_type": "code",
   "execution_count": 0,
   "metadata": {
    "application/vnd.databricks.v1+cell": {
     "cellMetadata": {
      "byteLimit": 2048000,
      "rowLimit": 10000
     },
     "inputWidgets": {},
     "nuid": "1d522a41-39de-4fca-bc32-f2e85a68656f",
     "showTitle": false,
     "tableResultSettingsMap": {},
     "title": ""
    }
   },
   "outputs": [],
   "source": [
    "import requests\n",
    "import json\n",
    "from datetime import datetime,timedelta\n",
    "\n",
    "# Get secret value from Key Vault\n",
    "weatherapikey = dbutils.secrets.get(scope=\"weatherscope\", key=\"weatherapikey\")\n",
    "location = \"Mumbai\"\n",
    "\n",
    "base_url = \"https://api.weatherapi.com/v1/\"\n",
    "\n",
    "current_weather_url = f\"{base_url}/current.json\"\n",
    "\n",
    "params = {\n",
    "    'key': weatherapikey,\n",
    "    'q': location,\n",
    "}\n",
    "\n",
    "response = requests.get(current_weather_url, params=params)\n",
    "if response.status_code == 200:\n",
    "    current_weather = response.json()\n",
    "    print(\"Current weather:\")\n",
    "    print(json.dumps(current_weather, indent=3))\n",
    "else:\n",
    "    print(f\"Error: {response.status_code}, {response.text}\")"
   ]
  },
  {
   "cell_type": "markdown",
   "metadata": {
    "application/vnd.databricks.v1+cell": {
     "cellMetadata": {},
     "inputWidgets": {},
     "nuid": "290c69ed-7be0-4a84-940b-cc83eca8e190",
     "showTitle": false,
     "tableResultSettingsMap": {},
     "title": ""
    }
   },
   "source": [
    "\n",
    "#### Weather data fetching & processing"
   ]
  },
  {
   "cell_type": "code",
   "execution_count": 0,
   "metadata": {
    "application/vnd.databricks.v1+cell": {
     "cellMetadata": {
      "byteLimit": 2048000,
      "rowLimit": 10000
     },
     "inputWidgets": {},
     "nuid": "e44bde2d-c4a3-48ce-979a-2cee77392d8e",
     "showTitle": false,
     "tableResultSettingsMap": {},
     "title": ""
    }
   },
   "outputs": [],
   "source": [
    "import requests\n",
    "import json\n",
    "\n",
    "\n",
    "base_url = \"https://api.weatherapi.com/v1/\"\n",
    "location = \"Burgas\"\n",
    "weatherapikey = dbutils.secrets.get(scope=\"weatherscope\", key=\"weatherapikey\")\n",
    "\n",
    "\n",
    "# Get secret value from Key Vault\n",
    "eventhub_connection_string = dbutils.secrets.get(scope=\"weatherscope\", key=\"databricks-event-conncect\")\n",
    "\n",
    "EVENT_HUB_NAME = \"weatherapievents\"\n",
    "\n",
    "# Initialize the eventhub producer\n",
    "producer = EventHubProducerClient.from_connection_string(eventhub_connection_string, eventhub_name=EVENT_HUB_NAME)\n",
    "\n",
    "last_sent_time = datetime.now() - timedelta(seconds=30)\n",
    "\n",
    "# Function to handle the API response\n",
    "def handle_response(response):\n",
    "  if response.status_code == 200:\n",
    "    return response.json()\n",
    "  else:\n",
    "    return f\"Error: {response.status_code}, {response.text}\"\n",
    "\n",
    "# Function to get current weather and air quality data\n",
    "def get_current_weather(base_url, api_key, location):\n",
    "  current_weather_url = f\"{base_url}/current.json\"\n",
    "  params = {\n",
    "    'key': api_key,\n",
    "    'q': location,\n",
    "    'aqi': 'yes'\n",
    "  }\n",
    "  response = requests.get(current_weather_url, params=params)\n",
    "  return handle_response(response)\n",
    "\n",
    "# Function to get forecast data\n",
    "def get_forecast_weather(base_url, api_key, location, days):\n",
    "  forecast_url = f\"{base_url}/forecast.json\"\n",
    "  params = {\n",
    "    'key': api_key,\n",
    "    'q': location,\n",
    "    'days': days,\n",
    "  }\n",
    "  response = requests.get(forecast_url, params=params)\n",
    "  return handle_response(response)\n",
    "\n",
    "\n",
    "# Function to get alerts\n",
    "def get_alerts(base_url, api_key, location):\n",
    "  alerts_url = f\"{base_url}/alerts.json\"\n",
    "  params = {\n",
    "    'key': api_key,\n",
    "    'q': location,\n",
    "    'alerts': 'yes'\n",
    "  }\n",
    "  response = requests.get(alerts_url, params=params)\n",
    "  return handle_response(response)\n",
    "\n",
    "\n",
    "# Flatten and merge the data\n",
    "def flatten_data(current_weather, forecast_weather, alerts):\n",
    "  location_data = current_weather.get(\"location\", {})\n",
    "  current = current_weather.get(\"current\", {})\n",
    "  condition = current.get(\"condition\", {})\n",
    "  air_quality = current.get(\"air_quality\", {})\n",
    "  forecast = forecast_weather.get(\"forecast\", {}).get(\"forecastday\", [])\n",
    "  alert_list = alerts.get(\"alerts\", {}).get(\"alert\", [])\n",
    "\n",
    "  flattened_data = {\n",
    "    'name': location_data.get(\"name\"),\n",
    "    'region': location_data.get(\"region\"),\n",
    "    'country': location_data.get(\"country\"),\n",
    "    'lat': location_data.get(\"lat\"),\n",
    "    'lon': location_data.get(\"lon\"),\n",
    "    'localtime': location_data.get(\"localtime\"),\n",
    "    'temp_c': current.get('temp_c'), \n",
    "    'is_day': current.get('is_day'),\n",
    "    'condition_text': condition.get('text'),\n",
    "    'condition_icon': condition.get('icon'),\n",
    "    'wind_kph': current.get('wind_kph'),\n",
    "    'wind_degree': current.get('wind_degree'),\n",
    "    'wind_dir': current.get('wind_dir'),\n",
    "    'pressure_mb': current.get('pressure_mb'),\n",
    "    'precip_mm': current.get('precip_mm'),\n",
    "    'humidity': current.get('humidity'),\n",
    "    'cloud': current.get('cloud'),\n",
    "    'feelslike_c': current.get('feelslike_c'),\n",
    "    'uv': current.get('uv'),\n",
    "\n",
    "    'air_quality':{\n",
    "      'co': air_quality.get('co'),\n",
    "      'no2': air_quality.get('no2'),\n",
    "      'o3': air_quality.get('o3'),\n",
    "      'so2': air_quality.get('so2'),\n",
    "      'pm2_5': air_quality.get('pm2_5'),\n",
    "      'pm10': air_quality.get('pm10'),\n",
    "      'us-epa-index': air_quality.get('us-epa-index'), \n",
    "      'gb-defra-index': air_quality.get('gb-defra-index'),\n",
    "    }, \n",
    "\n",
    "    'alerts': [\n",
    "      {\n",
    "        'headline': alert.get('headline'),\n",
    "        'severity': alert.get('severity'),\n",
    "        'description': alert.get('description'),\n",
    "        'instruction': alert.get('instruction')\n",
    "      }\n",
    "      for alert in alert_list\n",
    "    ],\n",
    "\n",
    "    'forecast': [\n",
    "      {\n",
    "        'date': day.get('date'),\n",
    "        'maxtemp_c': day.get('day', {}).get('maxtemp_c'),\n",
    "        'mintemp_c': day.get('day', {}).get('mintemp_c'),\n",
    "        'condition': day.get('day', {}).get('condition', {}).get('text')\n",
    "      }\n",
    "      for day in forecast\n",
    "    ]\n",
    "  }\n",
    "\n",
    "  return flattened_data\n",
    "\n",
    "\n",
    "# Main function\n",
    "def fetch_weather_data():\n",
    "\n",
    "  # Get data from API\n",
    "  current_weather = get_current_weather(base_url, weatherapikey, location)\n",
    "  forecast_weather = get_forecast_weather(base_url, weatherapikey, location, 3)\n",
    "  alerts = get_alerts(base_url, weatherapikey, location)\n",
    "\n",
    "  # Flatten and merge data\n",
    "  merged_data = flatten_data(current_weather, forecast_weather, alerts)\n",
    "  print(\"Weather data:\", json.dumps(merged_data, indent=3))\n",
    "\n",
    "  return merged_data\n",
    "\n",
    "\n",
    "\n",
    "\n",
    "def process_batch(batch_df, batch_id):\n",
    "  global last_sent_time\n",
    "  try:\n",
    "      # Get current time\n",
    "      current_time = datetime.now()\n",
    "      \n",
    "      # Check if X seconds have passed since last event was sent\n",
    "      if (current_time - last_sent_time).total_seconds() >= 30:\n",
    "        # Fetch weather data\n",
    "        weather_data = fetch_weather_data()\n",
    "\n",
    "        # Send the weather data \n",
    "        send_event(weather_data)\n",
    "\n",
    "        # Update last sent time\n",
    "        last_sent_time = current_time\n",
    "        print(f\"Event sent at {last_sent_time}\")\n",
    "\n",
    "  except Exception as e:\n",
    "      print(f\"Error sending events {batch_id}: {e}\")\n",
    "      raise e \n",
    "\n"
   ]
  },
  {
   "cell_type": "markdown",
   "metadata": {},
   "source": [
    "#### Creating realtime weather events data streaming"
   ]
  },
  {
   "cell_type": "code",
   "execution_count": null,
   "metadata": {},
   "outputs": [],
   "source": [
    "# Set up a streaming source\n",
    "streaming_df = spark.readStream.format(\"rate\").option(\"rowsPerSecond\", 1).load()\n",
    "\n",
    "# Write the streaming data using foreachBatch to send weather data to Event Hub\n",
    "query = streaming_df.writeStream.foreachBatch(process_batch).start()\n",
    "\n",
    "query.awaitTermination()\n",
    "\n",
    "# Call the main function\n",
    "producer.close()"
   ]
  },
  {
   "cell_type": "code",
   "execution_count": 0,
   "metadata": {
    "application/vnd.databricks.v1+cell": {
     "cellMetadata": {},
     "inputWidgets": {},
     "nuid": "96aaf3a2-ebb3-4308-9300-188c43bb6089",
     "showTitle": false,
     "tableResultSettingsMap": {},
     "title": ""
    }
   },
   "outputs": [],
   "source": []
  }
 ],
 "metadata": {
  "application/vnd.databricks.v1+notebook": {
   "computePreferences": null,
   "dashboards": [],
   "environmentMetadata": {
    "base_environment": "",
    "environment_version": "1"
   },
   "language": "python",
   "notebookMetadata": {
    "pythonIndentUnit": 4
   },
   "notebookName": "weather-streaming-nb",
   "widgets": {}
  },
  "language_info": {
   "name": "python"
  }
 },
 "nbformat": 4,
 "nbformat_minor": 0
}
